{
 "cells": [
  {
   "cell_type": "code",
   "execution_count": 1,
   "metadata": {},
   "outputs": [],
   "source": [
    "from PIL import Image\n",
    "import numpy as np"
   ]
  },
  {
   "cell_type": "markdown",
   "metadata": {},
   "source": [
    "#### load training images into train_imgs"
   ]
  },
  {
   "cell_type": "code",
   "execution_count": 2,
   "metadata": {},
   "outputs": [],
   "source": [
    "train_imgs = np.zeros((40,7,2576))\n",
    "for c in range(40):\n",
    "    for n in range(7):\n",
    "        img = Image.open('hw2_data/hw2-2_data/{}_{}.png'.format(c+1,n+1)).convert('L')\n",
    "        img_as_np = np.asarray(img)\n",
    "        train_imgs[c][n] = img_as_np.reshape(-1)"
   ]
  },
  {
   "cell_type": "code",
   "execution_count": 3,
   "metadata": {},
   "outputs": [
    {
     "data": {
      "text/plain": [
       "(40, 7, 2576)"
      ]
     },
     "execution_count": 3,
     "metadata": {},
     "output_type": "execute_result"
    }
   ],
   "source": [
    "train_imgs.shape"
   ]
  },
  {
   "cell_type": "code",
   "execution_count": 5,
   "metadata": {},
   "outputs": [
    {
     "data": {
      "image/png": "[encoded data removed]",
      "text/plain": [
       "<PIL.Image.Image image mode=L size=46x56 at 0x107337320>"
      ]
     },
     "execution_count": 5,
     "metadata": {},
     "output_type": "execute_result"
    }
   ],
   "source": [
    "Image.fromarray(train_imgs[7][5].reshape(56,46).astype('uint8'))"
   ]
  },
  {
   "cell_type": "markdown",
   "metadata": {},
   "source": [
    "#### get average face"
   ]
  },
  {
   "cell_type": "code",
   "execution_count": 6,
   "metadata": {},
   "outputs": [],
   "source": [
    "train_average_face = train_imgs.mean(axis=(0,1))"
   ]
  },
  {
   "cell_type": "code",
   "execution_count": 8,
   "metadata": {},
   "outputs": [
    {
     "data": {
      "image/png": "[encoded data removed]",
      "text/plain": [
       "<PIL.Image.Image image mode=L size=46x56 at 0x107337AC8>"
      ]
     },
     "execution_count": 8,
     "metadata": {},
     "output_type": "execute_result"
    }
   ],
   "source": [
    "Image.fromarray(train_average_face.reshape(56,46).astype('uint8'))"
   ]
  },
  {
   "cell_type": "code",
   "execution_count": 10,
   "metadata": {},
   "outputs": [],
   "source": [
    "im = Image.fromarray(train_average_face.reshape(56,46).astype('uint8'))\n",
    "im.save(\"train_average_face.jpg\")"
   ]
  },
  {
   "cell_type": "markdown",
   "metadata": {},
   "source": [
    "#### calculate cov_matrix and eigenfaces"
   ]
  },
  {
   "cell_type": "code",
   "execution_count": 11,
   "metadata": {},
   "outputs": [],
   "source": [
    "train_cov_matrix = np.cov(train_imgs.reshape(-1,2576).T)"
   ]
  },
  {
   "cell_type": "code",
   "execution_count": 13,
   "metadata": {},
   "outputs": [
    {
     "name": "stderr",
     "output_type": "stream",
     "text": [
      "/Users/maoredman/.pyenv/versions/3.6.4/lib/python3.6/site-packages/ipykernel_launcher.py:2: ComplexWarning: Casting complex values to real discards the imaginary part\n",
      "  \n",
      "/Users/maoredman/.pyenv/versions/3.6.4/lib/python3.6/site-packages/ipykernel_launcher.py:3: ComplexWarning: Casting complex values to real discards the imaginary part\n",
      "  This is separate from the ipykernel package so we can avoid doing imports until\n"
     ]
    }
   ],
   "source": [
    "train_eig_vals, train_eig_vecs = np.linalg.eig(train_cov_matrix)\n",
    "train_eig_vecs = train_eig_vecs.astype(float)\n",
    "train_eig_vals = train_eig_vals.astype(float)"
   ]
  },
  {
   "cell_type": "code",
   "execution_count": 14,
   "metadata": {},
   "outputs": [],
   "source": [
    "np.save('train_eig_vecs', train_eig_vecs)"
   ]
  },
  {
   "cell_type": "markdown",
   "metadata": {},
   "source": [
    "## PCA only"
   ]
  },
  {
   "cell_type": "markdown",
   "metadata": {},
   "source": [
    "#### get eigenfaces"
   ]
  },
  {
   "cell_type": "code",
   "execution_count": 22,
   "metadata": {},
   "outputs": [],
   "source": [
    "for i in range(5):\n",
    "    pixel_range = train_eig_vecs[:,i].max() - train_eig_vecs[:,i].min()\n",
    "    pixel_delta = train_eig_vecs[:,i] - train_eig_vecs[:,i].min()\n",
    "    pixel_normalized = pixel_delta * 255 / pixel_range\n",
    "    im = Image.fromarray(pixel_normalized.reshape(56,46).astype('uint8'))\n",
    "    im.save(\"eigenface_{}.jpg\".format(i+1))"
   ]
  },
  {
   "cell_type": "markdown",
   "metadata": {},
   "source": [
    "#### reconstruct an image"
   ]
  },
  {
   "cell_type": "code",
   "execution_count": 19,
   "metadata": {},
   "outputs": [],
   "source": [
    "img = Image.open('hw2_data/hw2-2_data/8_6.png').convert('L')\n",
    "img_as_np = np.asarray(img).astype(float)\n",
    "img_as_np = img_as_np.reshape(-1)"
   ]
  },
  {
   "cell_type": "code",
   "execution_count": 25,
   "metadata": {},
   "outputs": [
    {
     "name": "stdout",
     "output_type": "stream",
     "text": [
      "used 5, reconstruction error 693.7021744253194\n",
      "used 50, reconstruction error 119.20025848187896\n",
      "used 150, reconstruction error 38.75113372522805\n",
      "used 279, reconstruction error 1.6014640738105883e-24\n"
     ]
    }
   ],
   "source": [
    "for eigenfaces_used in [5,50,150,279]:\n",
    "    coeff = (img_as_np - train_average_face).dot(train_eig_vecs[:,0:eigenfaces_used])\n",
    "    reconstructed_img = train_eig_vecs[:,0:eigenfaces_used].dot(coeff)\n",
    "    reconstructed_img = reconstructed_img + train_average_face\n",
    "    # print(coeff.shape)\n",
    "    # print(reconstructed_img.shape)\n",
    "    print('used {}, reconstruction error {}'.format(eigenfaces_used, np.mean((reconstructed_img - img_as_np)**2)))\n",
    "    im = Image.fromarray(reconstructed_img.reshape(56,46).astype('uint8'))\n",
    "    im.save(\"reconstruct_with_{}.jpg\".format(eigenfaces_used))"
   ]
  },
  {
   "cell_type": "markdown",
   "metadata": {},
   "source": [
    "#### use t-SNE to visualize test images"
   ]
  },
  {
   "cell_type": "code",
   "execution_count": 285,
   "metadata": {},
   "outputs": [],
   "source": [
    "from sklearn.manifold import TSNE\n",
    "import matplotlib.pyplot as plt"
   ]
  },
  {
   "cell_type": "code",
   "execution_count": 422,
   "metadata": {},
   "outputs": [],
   "source": [
    "test_imgs = np.zeros((40,3,2576))\n",
    "for c in range(40):\n",
    "    for n in range(7,10):\n",
    "        img = Image.open('hw2_data/hw2-2_data/{}_{}.png'.format(c+1,n+1)).convert('L')\n",
    "        img_as_np = np.asarray(img)\n",
    "        test_imgs[c][n-7] = img_as_np.reshape(-1)"
   ]
  },
  {
   "cell_type": "code",
   "execution_count": 424,
   "metadata": {},
   "outputs": [
    {
     "data": {
      "text/plain": [
       "(40, 3, 2576)"
      ]
     },
     "execution_count": 424,
     "metadata": {},
     "output_type": "execute_result"
    }
   ],
   "source": [
    "test_imgs.shape"
   ]
  },
  {
   "cell_type": "code",
   "execution_count": 425,
   "metadata": {},
   "outputs": [],
   "source": [
    "eigenfaces_used = 100\n",
    "imgs_dim_reduced = test_imgs.dot(train_eig_vecs[:,0:eigenfaces_used])"
   ]
  },
  {
   "cell_type": "code",
   "execution_count": 426,
   "metadata": {},
   "outputs": [
    {
     "data": {
      "text/plain": [
       "(40, 3, 100)"
      ]
     },
     "execution_count": 426,
     "metadata": {},
     "output_type": "execute_result"
    }
   ],
   "source": [
    "imgs_dim_reduced.shape"
   ]
  },
  {
   "cell_type": "code",
   "execution_count": 427,
   "metadata": {},
   "outputs": [],
   "source": [
    "imgs_tsne = TSNE(n_components=2).fit_transform(imgs_dim_reduced.reshape(-1,100))\n",
    "# X.shape == (len(X), n_components)"
   ]
  },
  {
   "cell_type": "code",
   "execution_count": 428,
   "metadata": {},
   "outputs": [
    {
     "data": {
      "text/plain": [
       "(120, 2)"
      ]
     },
     "execution_count": 428,
     "metadata": {},
     "output_type": "execute_result"
    }
   ],
   "source": [
    "imgs_tsne.shape"
   ]
  },
  {
   "cell_type": "code",
   "execution_count": 429,
   "metadata": {},
   "outputs": [],
   "source": [
    "list_of_colors = ['xkcd:{}'.format(name) for name in [\"cloudy blue\",\"dark pastel green\",\"dust\",\"electric lime\",\"fresh green\",\"light eggplant\",\"nasty green\",\"really light blue\",\"tea\",\"warm purple\",\"yellowish tan\",\"cement\",\"dark grass green\",\"dusty teal\",\"grey teal\",\"macaroni and cheese\",\"pinkish tan\",\"spruce\",\"strong blue\",\"toxic green\",\"windows blue\",\"blue blue\",\"blue with a hint of purple\",\"booger\",\"bright sea green\",\"dark green blue\",\"deep turquoise\",\"green teal\",\"strong pink\",\"bland\",\"deep aqua\",\"lavender pink\",\"light moss green\",\"light seafoam green\",\"olive yellow\",\"pig pink\",\"deep lilac\",\"desert\",\"dusty lavender\",\"purpley grey\"]]"
   ]
  },
  {
   "cell_type": "code",
   "execution_count": 430,
   "metadata": {},
   "outputs": [
    {
     "data": {
      "image/png": "[encoded data removed]",
      "text/plain": [
       "<Figure size 432x288 with 1 Axes>"
      ]
     },
     "metadata": {},
     "output_type": "display_data"
    }
   ],
   "source": [
    "# list_of_colors = ['b', 'g', 'r', 'c', 'm', 'y', 'k', 'w']\n",
    "color_cycler = itertools.cycle(list_of_colors)\n",
    "for idx, thing in enumerate(imgs_tsne):\n",
    "    if idx %3 == 0:\n",
    "        chosen_color = next(color_cycler)\n",
    "    plt.scatter(thing[0], thing[1], color=chosen_color)\n",
    "# myplot = plt.scatter(imgs_tsne[:,0], imgs_tsne[:,1], color=next(colors))\n",
    "plt.savefig('PCA_TSNE.png', dpi=150)"
   ]
  },
  {
   "cell_type": "markdown",
   "metadata": {},
   "source": [
    "## LDA only"
   ]
  },
  {
   "cell_type": "code",
   "execution_count": 31,
   "metadata": {},
   "outputs": [],
   "source": [
    "train_eig_vecs = np.load('train_eig_vecs.npy')"
   ]
  },
  {
   "cell_type": "code",
   "execution_count": 32,
   "metadata": {},
   "outputs": [],
   "source": [
    "np.save('train_PCA_vecs', train_eig_vecs[:,0:279])"
   ]
  },
  {
   "cell_type": "code",
   "execution_count": 33,
   "metadata": {},
   "outputs": [],
   "source": [
    "C = 40\n",
    "N = 280\n",
    "eigenfaces_used = N-C\n",
    "train_img_PCA_coeff = (train_imgs - train_average_face).dot(train_eig_vecs[:,0:eigenfaces_used])"
   ]
  },
  {
   "cell_type": "code",
   "execution_count": 34,
   "metadata": {},
   "outputs": [
    {
     "data": {
      "text/plain": [
       "(40, 7, 240)"
      ]
     },
     "execution_count": 34,
     "metadata": {},
     "output_type": "execute_result"
    }
   ],
   "source": [
    "train_img_PCA_coeff.shape"
   ]
  },
  {
   "cell_type": "code",
   "execution_count": 35,
   "metadata": {},
   "outputs": [],
   "source": [
    "S_W = np.zeros((eigenfaces_used,eigenfaces_used))"
   ]
  },
  {
   "cell_type": "code",
   "execution_count": 36,
   "metadata": {
    "scrolled": true
   },
   "outputs": [],
   "source": [
    "for c in range(len(train_imgs)):\n",
    "    class_mean = train_img_PCA_coeff[c].mean(axis=0)\n",
    "    x_minus_u = train_img_PCA_coeff[c] - class_mean\n",
    "    S_W += (x_minus_u.T).dot(x_minus_u)"
   ]
  },
  {
   "cell_type": "code",
   "execution_count": 37,
   "metadata": {},
   "outputs": [],
   "source": [
    "PCA_global_mean = train_img_PCA_coeff.mean(axis=(0,1))\n",
    "u_class_minus_u_global = train_img_PCA_coeff.mean(1) - PCA_global_mean\n",
    "S_B = (u_class_minus_u_global.T).dot(u_class_minus_u_global)"
   ]
  },
  {
   "cell_type": "code",
   "execution_count": 38,
   "metadata": {},
   "outputs": [],
   "source": [
    "from numpy.linalg import inv"
   ]
  },
  {
   "cell_type": "code",
   "execution_count": 39,
   "metadata": {},
   "outputs": [],
   "source": [
    "LDA_eig_vals, W = np.linalg.eig(inv(S_W).dot(S_B))"
   ]
  },
  {
   "cell_type": "code",
   "execution_count": 40,
   "metadata": {},
   "outputs": [
    {
     "name": "stderr",
     "output_type": "stream",
     "text": [
      "/Users/maoredman/.pyenv/versions/3.6.4/lib/python3.6/site-packages/ipykernel_launcher.py:1: ComplexWarning: Casting complex values to real discards the imaginary part\n",
      "  \"\"\"Entry point for launching an IPython kernel.\n",
      "/Users/maoredman/.pyenv/versions/3.6.4/lib/python3.6/site-packages/ipykernel_launcher.py:2: ComplexWarning: Casting complex values to real discards the imaginary part\n",
      "  \n"
     ]
    }
   ],
   "source": [
    "LDA_eig_vals = LDA_eig_vals.astype(float)\n",
    "W = W.astype(float)"
   ]
  },
  {
   "cell_type": "code",
   "execution_count": 41,
   "metadata": {},
   "outputs": [],
   "source": [
    "np.save('train_LDA_vecs', W[:,0:C-1])"
   ]
  },
  {
   "cell_type": "code",
   "execution_count": 42,
   "metadata": {},
   "outputs": [],
   "source": [
    "fisherfaces = train_eig_vecs[:,0:eigenfaces_used].dot(W[:,0:C-1])"
   ]
  },
  {
   "cell_type": "code",
   "execution_count": 43,
   "metadata": {},
   "outputs": [
    {
     "data": {
      "text/plain": [
       "(2576, 39)"
      ]
     },
     "execution_count": 43,
     "metadata": {},
     "output_type": "execute_result"
    }
   ],
   "source": [
    "fisherfaces.shape"
   ]
  },
  {
   "cell_type": "code",
   "execution_count": 44,
   "metadata": {},
   "outputs": [],
   "source": [
    "for i in range(5):\n",
    "    pixel_range = fisherfaces[:,i].max() - fisherfaces[:,i].min()\n",
    "    pixel_delta = fisherfaces[:,i] - fisherfaces[:,i].min()\n",
    "    pixel_normalized = pixel_delta * 255 / pixel_range\n",
    "    im = Image.fromarray((pixel_normalized).astype('uint8').reshape(56,46))\n",
    "    im.save(\"fisherface_{}.jpg\".format(i+1))"
   ]
  },
  {
   "cell_type": "markdown",
   "metadata": {},
   "source": [
    "#### use t-SNE to visualize test images"
   ]
  },
  {
   "cell_type": "code",
   "execution_count": 316,
   "metadata": {},
   "outputs": [],
   "source": [
    "from sklearn.manifold import TSNE\n",
    "import matplotlib.pyplot as plt"
   ]
  },
  {
   "cell_type": "code",
   "execution_count": 319,
   "metadata": {},
   "outputs": [],
   "source": [
    "test_imgs = np.zeros((40,3,2576))\n",
    "for c in range(40):\n",
    "    for n in range(7,10):\n",
    "        img = Image.open('hw2_data/hw2-2_data/{}_{}.png'.format(c+1,n+1)).convert('L')\n",
    "        img_as_np = np.asarray(img)\n",
    "        test_imgs[c][n-7] = img_as_np.reshape(-1)"
   ]
  },
  {
   "cell_type": "code",
   "execution_count": 325,
   "metadata": {},
   "outputs": [
    {
     "data": {
      "text/plain": [
       "(40, 3, 2576)"
      ]
     },
     "execution_count": 325,
     "metadata": {},
     "output_type": "execute_result"
    }
   ],
   "source": [
    "test_imgs.shape"
   ]
  },
  {
   "cell_type": "code",
   "execution_count": 330,
   "metadata": {},
   "outputs": [],
   "source": [
    "test_imgs_PCA_coeff = (test_imgs - train_average_face).dot(train_eig_vecs[:,0:eigenfaces_used])"
   ]
  },
  {
   "cell_type": "code",
   "execution_count": 331,
   "metadata": {},
   "outputs": [
    {
     "data": {
      "text/plain": [
       "(40, 3, 240)"
      ]
     },
     "execution_count": 331,
     "metadata": {},
     "output_type": "execute_result"
    }
   ],
   "source": [
    "test_imgs_PCA_coeff.shape"
   ]
  },
  {
   "cell_type": "code",
   "execution_count": 332,
   "metadata": {},
   "outputs": [],
   "source": [
    "fisherfaces_used = 30\n",
    "test_imgs_LDA_coeff = test_imgs_PCA_coeff.dot(W[:,0:fisherfaces_used])"
   ]
  },
  {
   "cell_type": "code",
   "execution_count": 333,
   "metadata": {},
   "outputs": [
    {
     "data": {
      "text/plain": [
       "(40, 3, 30)"
      ]
     },
     "execution_count": 333,
     "metadata": {},
     "output_type": "execute_result"
    }
   ],
   "source": [
    "test_imgs_LDA_coeff.shape"
   ]
  },
  {
   "cell_type": "code",
   "execution_count": 336,
   "metadata": {},
   "outputs": [],
   "source": [
    "imgs_tsne = TSNE(n_components=2).fit_transform(test_imgs_LDA_coeff.reshape(-1,30))"
   ]
  },
  {
   "cell_type": "code",
   "execution_count": 357,
   "metadata": {},
   "outputs": [],
   "source": [
    "import itertools, random"
   ]
  },
  {
   "cell_type": "code",
   "execution_count": 364,
   "metadata": {},
   "outputs": [],
   "source": [
    "list_of_colors = ['xkcd:{}'.format(name) for name in [\"cloudy blue\",\"dark pastel green\",\"dust\",\"electric lime\",\"fresh green\",\"light eggplant\",\"nasty green\",\"really light blue\",\"tea\",\"warm purple\",\"yellowish tan\",\"cement\",\"dark grass green\",\"dusty teal\",\"grey teal\",\"macaroni and cheese\",\"pinkish tan\",\"spruce\",\"strong blue\",\"toxic green\",\"windows blue\",\"blue blue\",\"blue with a hint of purple\",\"booger\",\"bright sea green\",\"dark green blue\",\"deep turquoise\",\"green teal\",\"strong pink\",\"bland\",\"deep aqua\",\"lavender pink\",\"light moss green\",\"light seafoam green\",\"olive yellow\",\"pig pink\",\"deep lilac\",\"desert\",\"dusty lavender\",\"purpley grey\"]]"
   ]
  },
  {
   "cell_type": "code",
   "execution_count": 369,
   "metadata": {},
   "outputs": [
    {
     "data": {
      "image/png": "[encoded data removed]",
      "text/plain": [
       "<Figure size 432x288 with 1 Axes>"
      ]
     },
     "metadata": {},
     "output_type": "display_data"
    }
   ],
   "source": [
    "# list_of_colors = ['b', 'g', 'r', 'c', 'm', 'y', 'k', 'w']\n",
    "color_cycler = itertools.cycle(list_of_colors)\n",
    "for idx, thing in enumerate(imgs_tsne):\n",
    "    if idx %3 == 0:\n",
    "        chosen_color = next(color_cycler)\n",
    "    plt.scatter(thing[0], thing[1], color=chosen_color)\n",
    "# myplot = plt.scatter(imgs_tsne[:,0], imgs_tsne[:,1], color=next(colors))\n",
    "plt.savefig('LDA_TSNE.png', dpi=150)"
   ]
  }
 ],
 "metadata": {
  "kernelspec": {
   "display_name": "Python 3",
   "language": "python",
   "name": "python3"
  },
  "language_info": {
   "codemirror_mode": {
    "name": "ipython",
    "version": 3
   },
   "file_extension": ".py",
   "mimetype": "text/x-python",
   "name": "python",
   "nbconvert_exporter": "python",
   "pygments_lexer": "ipython3",
   "version": "3.6.4"
  }
 },
 "nbformat": 4,
 "nbformat_minor": 2
}
