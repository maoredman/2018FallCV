{
 "cells": [
  {
   "cell_type": "markdown",
   "metadata": {},
   "source": [
    "# Generate filtered images and calculate loss"
   ]
  },
  {
   "cell_type": "code",
   "execution_count": null,
   "metadata": {},
   "outputs": [],
   "source": [
    "import cv2, math\n",
    "import numpy as np\n",
    "import matplotlib.pyplot as plt"
   ]
  },
  {
   "cell_type": "code",
   "execution_count": 2,
   "metadata": {},
   "outputs": [],
   "source": [
    "bgr_img = cv2.imread('testdata/0a.png').astype(int)"
   ]
  },
  {
   "cell_type": "code",
   "execution_count": 3,
   "metadata": {},
   "outputs": [],
   "source": [
    "y = 0.114*bgr_img[:,:,0] + 0.587*bgr_img[:,:,1] + 0.299*bgr_img[:,:,2]"
   ]
  },
  {
   "cell_type": "code",
   "execution_count": 4,
   "metadata": {},
   "outputs": [
    {
     "data": {
      "text/plain": [
       "(390, 390)"
      ]
     },
     "execution_count": 4,
     "metadata": {},
     "output_type": "execute_result"
    }
   ],
   "source": [
    "y.shape"
   ]
  },
  {
   "cell_type": "code",
   "execution_count": 5,
   "metadata": {},
   "outputs": [
    {
     "data": {
      "text/plain": [
       "True"
      ]
     },
     "execution_count": 5,
     "metadata": {},
     "output_type": "execute_result"
    }
   ],
   "source": [
    "cv2.imwrite('0a_y.png',y)"
   ]
  },
  {
   "cell_type": "code",
   "execution_count": null,
   "metadata": {},
   "outputs": [],
   "source": [
    "for sigma_s in [1,2,3]:\n",
    "    for sigma_r in [0.05*255, 0.1*255, 0.2*255]:\n",
    "        print(\"==============\")\n",
    "        print(\"SIGMA_S {} SIGMA_R {}\".format(sigma_s, sigma_r/255))\n",
    "        \n",
    "        r = 3*sigma_s # 對應的 window size 是 2*r + 1\n",
    "\n",
    "        bgr_img_padded = cv2.copyMakeBorder(bgr_img,r,r,r,r,cv2.BORDER_REPLICATE)\n",
    "\n",
    "        # Create spacial kernel here, can be shared accross both range kernels\n",
    "        spacial_kernel = np.zeros((2*r+1, 2*r+1))\n",
    "        for i in range(1,r+1):\n",
    "            spacial_kernel[r+i] += i**2\n",
    "            spacial_kernel[r-i] += i**2\n",
    "            spacial_kernel[:,r+i] += i**2\n",
    "            spacial_kernel[:,r-i] += i**2\n",
    "        spacial_kernel = np.exp(-spacial_kernel / (2*sigma_s**2))\n",
    "#         print('Spacial kernel OK')\n",
    "\n",
    "        # Create color_output_image (bilateral filtered image)\n",
    "        color_output_image = np.zeros((bgr_img.shape[0], bgr_img.shape[1], bgr_img.shape[2]))\n",
    "        for i in range(bgr_img.shape[0]):\n",
    "            for j in range(bgr_img.shape[1]):\n",
    "                center_pixel = bgr_img_padded[i+r][j+r] # 3 channels\n",
    "                range_kernel = bgr_img_padded[i:i+2*r+1, j:j+2*r+1] - center_pixel # 3 channels\n",
    "                range_kernel = np.exp(-np.sum(range_kernel**2, axis=2) / (2*sigma_r**2))\n",
    "\n",
    "                kernel = spacial_kernel * range_kernel # 1 channel only\n",
    "\n",
    "                color_output_image[i][j] = np.sum(bgr_img_padded[i:i+2*r+1, j:j+2*r+1] * np.expand_dims(kernel,2), axis=(0,1)) / np.sum(kernel)\n",
    "        cv2.imwrite('out_color_filtered.png', color_output_image) # sanity check\n",
    "        print(\"color_filtered generated\")\n",
    "        \n",
    "        for a in range(11): # 0~10\n",
    "            for b in range(11-a):\n",
    "                w_b = a/10\n",
    "                w_g = b/10\n",
    "                w_r = round(1 - w_b - w_g, 2)\n",
    "                \n",
    "                grayscale_img = (w_b*bgr_img[:,:,0] + w_g*bgr_img[:,:,1] + w_r*bgr_img[:,:,2]).astype(int)\n",
    "                grayscale_img_padded = cv2.copyMakeBorder(grayscale_img,r,r,r,r,cv2.BORDER_REPLICATE).astype(int)\n",
    "                cv2.imwrite('out_gray.png', grayscale_img)\n",
    "\n",
    "                output_image = np.zeros((bgr_img.shape[0], bgr_img.shape[1], bgr_img.shape[2]))\n",
    "                for i in range(bgr_img.shape[0]):\n",
    "                    for j in range(bgr_img.shape[1]):\n",
    "                        center_pixel = grayscale_img_padded[i+r][j+r]\n",
    "                        range_kernel = grayscale_img_padded[i:i+2*r+1, j:j+2*r+1] - center_pixel\n",
    "                        range_kernel = np.exp(-range_kernel**2 / (2*sigma_r**2))\n",
    "\n",
    "                        kernel = spacial_kernel * range_kernel\n",
    "\n",
    "                        output_image[i][j] = np.sum(bgr_img_padded[i:i+2*r+1, j:j+2*r+1] * np.expand_dims(kernel,2), axis=(0,1)) / np.sum(kernel)\n",
    "#                 print('Finished output')\n",
    "                cv2.imwrite('out_gray_filtered.png', output_image)\n",
    "                av_error = np.sum(abs(color_output_image - output_image)) / bgr_img.shape[0] / bgr_img.shape[1] / bgr_img.shape[2]\n",
    "                \n",
    "                print(\"w_b {} w_g {} w_r {} : av_error {}\".format(w_b, w_g, w_r, av_error))\n",
    "                with open(\"log_sigmaS{}_sigmaR{}.txt\".format(sigma_s, sigma_r/255), \"a\") as myfile:\n",
    "                    myfile.write(\"w_b {} w_g {} w_r {} : av_error {}\\n\".format(w_b, w_g, w_r, av_error))\n",
    "                "
   ]
  },
  {
   "cell_type": "code",
   "execution_count": null,
   "metadata": {},
   "outputs": [],
   "source": [
    "cv2.imwrite('out_filtered.png', output_image)\n",
    "cv2.imwrite('out_guide.png', grayscale_img)"
   ]
  },
  {
   "cell_type": "code",
   "execution_count": null,
   "metadata": {},
   "outputs": [],
   "source": []
  },
  {
   "cell_type": "code",
   "execution_count": null,
   "metadata": {},
   "outputs": [],
   "source": [
    "output_image.shape"
   ]
  },
  {
   "cell_type": "markdown",
   "metadata": {},
   "source": [
    "### Get bilateral filtered images"
   ]
  },
  {
   "cell_type": "code",
   "execution_count": null,
   "metadata": {},
   "outputs": [],
   "source": [
    "bgr_img = cv2.imread('testdata/0a.png').astype(int)"
   ]
  },
  {
   "cell_type": "markdown",
   "metadata": {},
   "source": [
    "# Parse log files"
   ]
  },
  {
   "cell_type": "code",
   "execution_count": 59,
   "metadata": {},
   "outputs": [
    {
     "name": "stdout",
     "output_type": "stream",
     "text": [
      "ALL DONE!\n"
     ]
    }
   ],
   "source": [
    "point2vote = {}\n",
    "for sigma_s in [1,2,3]:\n",
    "    for sigma_r in [0.05, 0.1, 0.2]:\n",
    "        point2error = {}\n",
    "        with open(\"0c/log_sigmaS{}_sigmaR{}.txt\".format(sigma_s, sigma_r)) as myfile:\n",
    "            for idx, line in enumerate(myfile.readlines()):\n",
    "                tokens = line.split()\n",
    "                point2error[(float(tokens[1]), float(tokens[3]), float(tokens[5]))] = float(tokens[8])\n",
    "#         print(point2error)\n",
    "        for a in range(11): # 0~10\n",
    "            for b in range(11-a):\n",
    "                w_b = a/10\n",
    "                w_g = b/10\n",
    "                w_r = round(1 - w_b - w_g, 2)\n",
    "                \n",
    "                if round(w_b-0.1,2) >= 0 and round(w_g+0.1,2) <= 1 and point2error[(round(w_b-0.1,2), round(w_g+0.1,2), w_r)] < point2error[(w_b, w_g, w_r)]:\n",
    "                    continue\n",
    "                if round(w_b-0.1,2) >= 0 and round(w_r+0.1,2) <= 1 and point2error[(round(w_b-0.1,2), w_g, round(w_r+0.1,2))] < point2error[(w_b, w_g, w_r)]:\n",
    "                    continue\n",
    "                if round(w_g-0.1,2) >= 0 and round(w_b+0.1,2) <= 1 and point2error[(round(w_b+0.1,2), round(w_g-0.1,2), w_r)] < point2error[(w_b, w_g, w_r)]:\n",
    "                    continue\n",
    "                if round(w_g-0.1,2) >= 0 and round(w_r+0.1,2) <= 1 and point2error[(w_b, round(w_g-0.1,2), round(w_r+0.1,2))] < point2error[(w_b, w_g, w_r)]:\n",
    "                    continue\n",
    "                if round(w_r-0.1,2) >= 0 and round(w_g+0.1,2) <= 1 and point2error[(w_b, round(w_g+0.1,2), round(w_r-0.1,2))] < point2error[(w_b, w_g, w_r)]:\n",
    "                    continue\n",
    "                if round(w_r-0.1,2) >= 0 and round(w_b+0.1,2) <= 1 and point2error[(round(w_b+0.1,2), w_g, round(w_r-0.1,2))] < point2error[(w_b, w_g, w_r)]:\n",
    "                    continue\n",
    "                \n",
    "                # if got to here, is local minima\n",
    "                if (w_b, w_g, w_r) not in point2vote:\n",
    "                    point2vote[(w_b, w_g, w_r)] = 1\n",
    "                else:\n",
    "                    point2vote[(w_b, w_g, w_r)] += 1\n",
    "print(\"ALL DONE!\")"
   ]
  },
  {
   "cell_type": "code",
   "execution_count": 60,
   "metadata": {},
   "outputs": [
    {
     "data": {
      "text/plain": [
       "{(0.0, 0.0, 1.0): 2,\n",
       " (0.0, 0.1, 0.9): 1,\n",
       " (0.1, 0.5, 0.4): 1,\n",
       " (0.2, 0.5, 0.3): 1,\n",
       " (0.2, 0.6, 0.2): 1,\n",
       " (0.3, 0.3, 0.4): 1,\n",
       " (0.3, 0.4, 0.3): 3,\n",
       " (0.3, 0.5, 0.2): 1}"
      ]
     },
     "execution_count": 60,
     "metadata": {},
     "output_type": "execute_result"
    }
   ],
   "source": [
    "point2vote"
   ]
  },
  {
   "cell_type": "markdown",
   "metadata": {},
   "source": [
    "# Generate custom grayscale images"
   ]
  },
  {
   "cell_type": "code",
   "execution_count": 1,
   "metadata": {},
   "outputs": [],
   "source": [
    "import cv2"
   ]
  },
  {
   "cell_type": "code",
   "execution_count": 62,
   "metadata": {},
   "outputs": [
    {
     "data": {
      "text/plain": [
       "True"
      ]
     },
     "execution_count": 62,
     "metadata": {},
     "output_type": "execute_result"
    }
   ],
   "source": [
    "bgr_img = cv2.imread('testdata/0c.png').astype(int)\n",
    "y = 0.*bgr_img[:,:,0] + 0.*bgr_img[:,:,1] + 1*bgr_img[:,:,2]\n",
    "cv2.imwrite('test.png',y)"
   ]
  },
  {
   "cell_type": "code",
   "execution_count": null,
   "metadata": {},
   "outputs": [],
   "source": []
  }
 ],
 "metadata": {
  "kernelspec": {
   "display_name": "Python 3",
   "language": "python",
   "name": "python3"
  },
  "language_info": {
   "codemirror_mode": {
    "name": "ipython",
    "version": 3
   },
   "file_extension": ".py",
   "mimetype": "text/x-python",
   "name": "python",
   "nbconvert_exporter": "python",
   "pygments_lexer": "ipython3",
   "version": "3.6.4"
  }
 },
 "nbformat": 4,
 "nbformat_minor": 2
}
